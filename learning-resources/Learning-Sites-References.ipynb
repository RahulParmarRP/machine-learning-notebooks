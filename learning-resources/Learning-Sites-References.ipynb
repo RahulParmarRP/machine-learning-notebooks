{
 "cells": [
  {
   "cell_type": "markdown",
   "metadata": {},
   "source": [
    "In mathematical optimization and decision theory, a loss function or cost function is a function that maps an event or values of one or more variables onto a real number intuitively representing some \"cost\" associated with the event. An optimization problem seeks to minimize a loss function. An objective function is either a loss function or its negative (in specific domains, variously called a reward function, a profit function, a utility function, a fitness function, etc.), in which case it is to be maximized."
   ]
  },
  {
   "cell_type": "markdown",
   "metadata": {},
   "source": [
    "https://github.com/hangtwenty/dive-into-machine-learning\n",
    "\n",
    "http://ncert.nic.in/textbook/textbook.htm\n",
    "\n",
    "https://www.iitbooks.co.in/2017/01/Concepts-of-Physics-HC-Verma-free-pdf.html\n",
    "\n",
    "https://www.kaggle.com/rahulparmarrp"
   ]
  },
  {
   "cell_type": "markdown",
   "metadata": {},
   "source": [
    "https://en.wikipedia.org/wiki/Loss_function\n",
    "\n",
    "https://en.wikipedia.org/wiki/Mean\n",
    "\n",
    "https://en.wikipedia.org/wiki/Mean_squared_error\n",
    "\n",
    "Just like Mean Squared Error/Deviation"
   ]
  },
  {
   "attachments": {
    "MSE.png": {
     "image/png": "[encoded data removed]"
    }
   },
   "cell_type": "markdown",
   "metadata": {},
   "source": [
    "![MSE.png](attachment:MSE.png)"
   ]
  },
  {
   "cell_type": "markdown",
   "metadata": {},
   "source": [
    " The mean is halved as a convenience for the computation of the gradient descent, as the derivative term of the square function will cancel out the term."
   ]
  },
  {
   "cell_type": "markdown",
   "metadata": {},
   "source": [
    "https://en.wikipedia.org/wiki/Gradient_descent\n",
    "\n",
    "https://ml-cheatsheet.readthedocs.io/en/latest/gradient_descent.html\n",
    "\n",
    "https://www.ritchieng.com/multi-variable-linear-regression/\n",
    "\n",
    "https://spin.atomicobject.com/2014/06/24/gradient-descent-linear-regression/\n",
    "\n",
    "http://people.exeter.ac.uk/dgbalken/BME05/\n",
    "\n",
    "https://archive.ics.uci.edu/ml/datasets/census+income\n",
    "\n",
    "https://livebook.manning.com/book/machine-learning-with-tensorflow/chapter-3/92\n",
    "\n",
    "https://www.geeksforgeeks.org/linear-regression-python-implementation/\n",
    "\n",
    "https://scikit-learn.org/stable/auto_examples/linear_model/plot_ols.html\n",
    "\n",
    "https://www.geeksforgeeks.org/univariate-linear-regression-in-python/\n",
    "\n",
    "https://www.geeksforgeeks.org/linear-regression-using-tensorflow/\n",
    "\n",
    "https://www.geeksforgeeks.org/ml-normal-equation-in-linear-regression/\n",
    "\n",
    "http://onlinestatbook.com/2/regression/intro.html\n",
    "\n",
    "https://newonlinecourses.science.psu.edu/stat462/node/101/\n",
    "\n",
    "https://data.world/nrippner/ols-regression-challenge # rahulparmarrp\n",
    "\n",
    "https://machinelearningmastery.com/implement-simple-linear-regression-scratch-python/\n",
    "\n",
    "https://www.math.muni.cz/~kolacek/docs/frvs/M7222/data/AutoInsurSweden.txt\n",
    "\n",
    "http://college.cengage.com/mathematics/brase/understandable_statistics/7e/students/datasets/slr/frames/slr06.html\n",
    "\n",
    "https://www.datacamp.com/courses/supervised-learning-with-scikit-learn\n",
    "\n",
    "https://seaborn.pydata.org/"
   ]
  },
  {
   "cell_type": "markdown",
   "metadata": {},
   "source": [
    "$\\theta_j := \\theta_j - \\alpha \\frac{\\partial}{\\partial \\theta_j} J(\\theta_0, \\theta_1)$"
   ]
  },
  {
   "cell_type": "markdown",
   "metadata": {},
   "source": [
    "We will know that we have succeeded when our cost function is at the very bottom of the pits in our graph, i.e. when its value is the minimum.\n",
    "\n",
    "The way we do this is by taking the derivative (the tangential line to a function) of our cost function. The slope of the tangent is the derivative at that point and it will give us a direction to move towards. We make steps down the cost function in the direction with the steepest descent, and the size of each step is determined by the parameter α, which is called the learning rate."
   ]
  },
  {
   "cell_type": "markdown",
   "metadata": {},
   "source": [
    "https://www.holehouse.org/mlclass/\n",
    "\n",
    "http://cs229.stanford.edu/notes/\n",
    "\n",
    "https://www.ritchieng.com/machine-learning-resources/"
   ]
  },
  {
   "cell_type": "markdown",
   "metadata": {},
   "source": [
    "https://en.wikipedia.org/wiki/Linear_algebra\n",
    "\n",
    "https://www.deeplearningbook.org/\n",
    "\n",
    "https://www.math.ucdavis.edu/~linear/linear-guest.pdf\n",
    "\n",
    "http://vmls-book.stanford.edu/vmls.pdf"
   ]
  },
  {
   "cell_type": "markdown",
   "metadata": {},
   "source": [
    "Simple code for Cost function"
   ]
  },
  {
   "cell_type": "code",
   "execution_count": 3,
   "metadata": {},
   "outputs": [
    {
     "name": "stdout",
     "output_type": "stream",
     "text": [
      "Cost for  0.5  is  1.0833333333333333\n",
      "Cost for  1.0  is  0.08333333333333333\n",
      "Cost for  1.5  is  0.25\n"
     ]
    }
   ],
   "source": [
    "import matplotlib.pyplot as plt\n",
    "import numpy as np\n",
    "\n",
    "# original data set\n",
    "X = [1, 2, 3]\n",
    "y = [1, 2.5, 3.5]\n",
    "\n",
    "# slope of best_fit_1 is 0.5\n",
    "# slope of best_fit_2 is 1.0\n",
    "# slope of best_fit_3 is 1.5\n",
    "\n",
    "hyps = [0.5, 1.0, 1.5] \n",
    "\n",
    "# mutiply the original X values by the theta \n",
    "# to produce hypothesis values for each X\n",
    "def multiply_matrix(mat, theta):\n",
    "    mutated = []\n",
    "    for i in range(len(mat)):\n",
    "        mutated.append(mat[i] * theta)\n",
    "\n",
    "    return mutated\n",
    "\n",
    "# calculate cost by looping each sample\n",
    "# subtract hyp(x) from y\n",
    "# square the result\n",
    "# sum them all together\n",
    "def calc_cost(m, X, y):\n",
    "    total = 0\n",
    "    for i in range(m):\n",
    "        squared_error = (y[i] - X[i]) ** 2\n",
    "        total += squared_error\n",
    "    \n",
    "    return total * (1 / (2*m))\n",
    "\n",
    "# calculate cost for each hypothesis\n",
    "for i in range(len(hyps)):\n",
    "    hyp_values = multiply_matrix(X, hyps[i])\n",
    "\n",
    "    print(\"Cost for \", hyps[i], \" is \", calc_cost(len(X), y, hyp_values))"
   ]
  },
  {
   "cell_type": "code",
   "execution_count": 4,
   "metadata": {},
   "outputs": [
    {
     "name": "stdout",
     "output_type": "stream",
     "text": [
      "1.0833333333333333\n",
      "0.08333333333333333\n",
      "0.25\n"
     ]
    }
   ],
   "source": [
    "#advance for cost function using linera algebra\n",
    "import numpy as np\n",
    "\n",
    "X = np.array([[1], [2], [3]])\n",
    "y = np.array([[1], [2.5], [3.5]])\n",
    "\n",
    "get_theta = lambda theta: np.array([[0, theta]])\n",
    "\n",
    "thetas = list(map(get_theta, [0.5, 1.0, 1.5]))\n",
    "\n",
    "X = np.hstack([np.ones([3, 1]), X])\n",
    "\n",
    "def cost(X, y, theta):\n",
    "    inner = np.power(((X @ theta.T) - y), 2)\n",
    "    return np.sum(inner) / (2 * len(X))\n",
    "\n",
    "for i in range(len(thetas)):\n",
    "    print(cost(X, y, thetas[i]))"
   ]
  }
 ],
 "metadata": {
  "kernelspec": {
   "display_name": "Python 3",
   "language": "python",
   "name": "python3"
  },
  "language_info": {
   "codemirror_mode": {
    "name": "ipython",
    "version": 3
   },
   "file_extension": ".py",
   "mimetype": "text/x-python",
   "name": "python",
   "nbconvert_exporter": "python",
   "pygments_lexer": "ipython3",
   "version": "3.7.4"
  }
 },
 "nbformat": 4,
 "nbformat_minor": 2
}
