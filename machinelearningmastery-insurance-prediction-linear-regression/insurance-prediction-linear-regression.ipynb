{
 "cells": [
  {
   "cell_type": "code",
   "execution_count": 1,
   "metadata": {},
   "outputs": [],
   "source": [
    "from numpy import *\n",
    "import matplotlib.pyplot as plt\n",
    "import pandas as pd"
   ]
  },
  {
   "cell_type": "code",
   "execution_count": 2,
   "metadata": {},
   "outputs": [],
   "source": [
    "# Auto Insurance in Sweden \n",
    "# In the following data\n",
    "# X = number of claims\n",
    "# Y = total payment for all the claims in thousands of Swedish Kronor\n",
    "# for geographical zones in Sweden\n",
    "# Reference: Swedish Committee on Analysis of Risk Premium in Motor Insurance"
   ]
  },
  {
   "cell_type": "code",
   "execution_count": 3,
   "metadata": {},
   "outputs": [
    {
     "name": "stdout",
     "output_type": "stream",
     "text": [
      "*** No CODEPAGE record, no encoding_override: will use 'ascii'\n"
     ]
    }
   ],
   "source": [
    "dataframe = pd.read_excel('insurance-linear-regression-data/slr06.xls',index_col=None)"
   ]
  },
  {
   "cell_type": "code",
   "execution_count": 4,
   "metadata": {},
   "outputs": [
    {
     "data": {
      "text/html": [
       "<div>\n",
       "<style scoped>\n",
       "    .dataframe tbody tr th:only-of-type {\n",
       "        vertical-align: middle;\n",
       "    }\n",
       "\n",
       "    .dataframe tbody tr th {\n",
       "        vertical-align: top;\n",
       "    }\n",
       "\n",
       "    .dataframe thead th {\n",
       "        text-align: right;\n",
       "    }\n",
       "</style>\n",
       "<table border=\"1\" class=\"dataframe\">\n",
       "  <thead>\n",
       "    <tr style=\"text-align: right;\">\n",
       "      <th></th>\n",
       "      <th>X</th>\n",
       "      <th>Y</th>\n",
       "    </tr>\n",
       "  </thead>\n",
       "  <tbody>\n",
       "    <tr>\n",
       "      <td>0</td>\n",
       "      <td>108</td>\n",
       "      <td>392.5</td>\n",
       "    </tr>\n",
       "    <tr>\n",
       "      <td>1</td>\n",
       "      <td>19</td>\n",
       "      <td>46.2</td>\n",
       "    </tr>\n",
       "    <tr>\n",
       "      <td>2</td>\n",
       "      <td>13</td>\n",
       "      <td>15.7</td>\n",
       "    </tr>\n",
       "    <tr>\n",
       "      <td>3</td>\n",
       "      <td>124</td>\n",
       "      <td>422.2</td>\n",
       "    </tr>\n",
       "    <tr>\n",
       "      <td>4</td>\n",
       "      <td>40</td>\n",
       "      <td>119.4</td>\n",
       "    </tr>\n",
       "    <tr>\n",
       "      <td>...</td>\n",
       "      <td>...</td>\n",
       "      <td>...</td>\n",
       "    </tr>\n",
       "    <tr>\n",
       "      <td>58</td>\n",
       "      <td>9</td>\n",
       "      <td>87.4</td>\n",
       "    </tr>\n",
       "    <tr>\n",
       "      <td>59</td>\n",
       "      <td>31</td>\n",
       "      <td>209.8</td>\n",
       "    </tr>\n",
       "    <tr>\n",
       "      <td>60</td>\n",
       "      <td>14</td>\n",
       "      <td>95.5</td>\n",
       "    </tr>\n",
       "    <tr>\n",
       "      <td>61</td>\n",
       "      <td>53</td>\n",
       "      <td>244.6</td>\n",
       "    </tr>\n",
       "    <tr>\n",
       "      <td>62</td>\n",
       "      <td>26</td>\n",
       "      <td>187.5</td>\n",
       "    </tr>\n",
       "  </tbody>\n",
       "</table>\n",
       "<p>63 rows × 2 columns</p>\n",
       "</div>"
      ],
      "text/plain": [
       "      X      Y\n",
       "0   108  392.5\n",
       "1    19   46.2\n",
       "2    13   15.7\n",
       "3   124  422.2\n",
       "4    40  119.4\n",
       "..  ...    ...\n",
       "58    9   87.4\n",
       "59   31  209.8\n",
       "60   14   95.5\n",
       "61   53  244.6\n",
       "62   26  187.5\n",
       "\n",
       "[63 rows x 2 columns]"
      ]
     },
     "execution_count": 4,
     "metadata": {},
     "output_type": "execute_result"
    }
   ],
   "source": [
    "dataframe"
   ]
  },
  {
   "cell_type": "code",
   "execution_count": 5,
   "metadata": {},
   "outputs": [
    {
     "data": {
      "text/plain": [
       "0     108\n",
       "1      19\n",
       "2      13\n",
       "3     124\n",
       "4      40\n",
       "     ... \n",
       "58      9\n",
       "59     31\n",
       "60     14\n",
       "61     53\n",
       "62     26\n",
       "Name: X, Length: 63, dtype: int64"
      ]
     },
     "execution_count": 5,
     "metadata": {},
     "output_type": "execute_result"
    }
   ],
   "source": [
    "dataframe['X']"
   ]
  },
  {
   "cell_type": "code",
   "execution_count": 6,
   "metadata": {},
   "outputs": [],
   "source": [
    "#Extract columns\n",
    "#x = array(dataframe['X'])\n",
    "#y = array(dataframe['Y'])\n",
    "datasets = array(dataframe)\n",
    "\n",
    "# https://stackoverflow.com/questions/37512079/python-pandas-why-does-df-iloc-1-values-for-my-training-data-select-till\n",
    "x = dataframe.iloc[:, :-1].values\n",
    "x_alternate = dataframe.iloc[:,0].values\n",
    "y = dataframe.iloc[:, 1].values"
   ]
  },
  {
   "cell_type": "code",
   "execution_count": 49,
   "metadata": {},
   "outputs": [
    {
     "data": {
      "text/plain": [
       "array([[108. , 392.5],\n",
       "       [ 19. ,  46.2],\n",
       "       [ 13. ,  15.7],\n",
       "       [124. , 422.2],\n",
       "       [ 40. , 119.4],\n",
       "       [ 57. , 170.9],\n",
       "       [ 23. ,  56.9],\n",
       "       [ 14. ,  77.5],\n",
       "       [ 45. , 214. ],\n",
       "       [ 10. ,  65.3],\n",
       "       [  5. ,  20.9],\n",
       "       [ 48. , 248.1],\n",
       "       [ 11. ,  23.5],\n",
       "       [ 23. ,  39.6],\n",
       "       [  7. ,  48.8],\n",
       "       [  2. ,   6.6],\n",
       "       [ 24. , 134.9],\n",
       "       [  6. ,  50.9],\n",
       "       [  3. ,   4.4],\n",
       "       [ 23. , 113. ],\n",
       "       [  6. ,  14.8],\n",
       "       [  9. ,  48.7],\n",
       "       [  9. ,  52.1],\n",
       "       [  3. ,  13.2],\n",
       "       [ 29. , 103.9],\n",
       "       [  7. ,  77.5],\n",
       "       [  4. ,  11.8],\n",
       "       [ 20. ,  98.1],\n",
       "       [  7. ,  27.9],\n",
       "       [  4. ,  38.1],\n",
       "       [  0. ,   0. ],\n",
       "       [ 25. ,  69.2],\n",
       "       [  6. ,  14.6],\n",
       "       [  5. ,  40.3],\n",
       "       [ 22. , 161.5],\n",
       "       [ 11. ,  57.2],\n",
       "       [ 61. , 217.6],\n",
       "       [ 12. ,  58.1],\n",
       "       [  4. ,  12.6],\n",
       "       [ 16. ,  59.6],\n",
       "       [ 13. ,  89.9],\n",
       "       [ 60. , 202.4],\n",
       "       [ 41. , 181.3],\n",
       "       [ 37. , 152.8],\n",
       "       [ 55. , 162.8],\n",
       "       [ 41. ,  73.4],\n",
       "       [ 11. ,  21.3],\n",
       "       [ 27. ,  92.6],\n",
       "       [  8. ,  76.1],\n",
       "       [  3. ,  39.9],\n",
       "       [ 17. , 142.1],\n",
       "       [ 13. ,  93. ],\n",
       "       [ 13. ,  31.9],\n",
       "       [ 15. ,  32.1],\n",
       "       [  8. ,  55.6],\n",
       "       [ 29. , 133.3],\n",
       "       [ 30. , 194.5],\n",
       "       [ 24. , 137.9],\n",
       "       [  9. ,  87.4],\n",
       "       [ 31. , 209.8],\n",
       "       [ 14. ,  95.5],\n",
       "       [ 53. , 244.6],\n",
       "       [ 26. , 187.5]])"
      ]
     },
     "execution_count": 49,
     "metadata": {},
     "output_type": "execute_result"
    }
   ],
   "source": [
    "datasets"
   ]
  },
  {
   "cell_type": "code",
   "execution_count": 50,
   "metadata": {},
   "outputs": [
    {
     "data": {
      "text/plain": [
       "array([[108],\n",
       "       [ 19],\n",
       "       [ 13],\n",
       "       [124],\n",
       "       [ 40],\n",
       "       [ 57],\n",
       "       [ 23],\n",
       "       [ 14],\n",
       "       [ 45],\n",
       "       [ 10],\n",
       "       [  5],\n",
       "       [ 48],\n",
       "       [ 11],\n",
       "       [ 23],\n",
       "       [  7],\n",
       "       [  2],\n",
       "       [ 24],\n",
       "       [  6],\n",
       "       [  3],\n",
       "       [ 23],\n",
       "       [  6],\n",
       "       [  9],\n",
       "       [  9],\n",
       "       [  3],\n",
       "       [ 29],\n",
       "       [  7],\n",
       "       [  4],\n",
       "       [ 20],\n",
       "       [  7],\n",
       "       [  4],\n",
       "       [  0],\n",
       "       [ 25],\n",
       "       [  6],\n",
       "       [  5],\n",
       "       [ 22],\n",
       "       [ 11],\n",
       "       [ 61],\n",
       "       [ 12],\n",
       "       [  4],\n",
       "       [ 16],\n",
       "       [ 13],\n",
       "       [ 60],\n",
       "       [ 41],\n",
       "       [ 37],\n",
       "       [ 55],\n",
       "       [ 41],\n",
       "       [ 11],\n",
       "       [ 27],\n",
       "       [  8],\n",
       "       [  3],\n",
       "       [ 17],\n",
       "       [ 13],\n",
       "       [ 13],\n",
       "       [ 15],\n",
       "       [  8],\n",
       "       [ 29],\n",
       "       [ 30],\n",
       "       [ 24],\n",
       "       [  9],\n",
       "       [ 31],\n",
       "       [ 14],\n",
       "       [ 53],\n",
       "       [ 26]], dtype=int64)"
      ]
     },
     "execution_count": 50,
     "metadata": {},
     "output_type": "execute_result"
    }
   ],
   "source": [
    "x"
   ]
  },
  {
   "cell_type": "code",
   "execution_count": 51,
   "metadata": {},
   "outputs": [
    {
     "data": {
      "text/plain": [
       "array([108,  19,  13, 124,  40,  57,  23,  14,  45,  10,   5,  48,  11,\n",
       "        23,   7,   2,  24,   6,   3,  23,   6,   9,   9,   3,  29,   7,\n",
       "         4,  20,   7,   4,   0,  25,   6,   5,  22,  11,  61,  12,   4,\n",
       "        16,  13,  60,  41,  37,  55,  41,  11,  27,   8,   3,  17,  13,\n",
       "        13,  15,   8,  29,  30,  24,   9,  31,  14,  53,  26], dtype=int64)"
      ]
     },
     "execution_count": 51,
     "metadata": {},
     "output_type": "execute_result"
    }
   ],
   "source": [
    "x_alternate"
   ]
  },
  {
   "cell_type": "code",
   "execution_count": 52,
   "metadata": {},
   "outputs": [],
   "source": [
    "#print(x_alternate.transpose().shape)"
   ]
  },
  {
   "cell_type": "code",
   "execution_count": 53,
   "metadata": {},
   "outputs": [
    {
     "data": {
      "text/plain": [
       "array([392.5,  46.2,  15.7, 422.2, 119.4, 170.9,  56.9,  77.5, 214. ,\n",
       "        65.3,  20.9, 248.1,  23.5,  39.6,  48.8,   6.6, 134.9,  50.9,\n",
       "         4.4, 113. ,  14.8,  48.7,  52.1,  13.2, 103.9,  77.5,  11.8,\n",
       "        98.1,  27.9,  38.1,   0. ,  69.2,  14.6,  40.3, 161.5,  57.2,\n",
       "       217.6,  58.1,  12.6,  59.6,  89.9, 202.4, 181.3, 152.8, 162.8,\n",
       "        73.4,  21.3,  92.6,  76.1,  39.9, 142.1,  93. ,  31.9,  32.1,\n",
       "        55.6, 133.3, 194.5, 137.9,  87.4, 209.8,  95.5, 244.6, 187.5])"
      ]
     },
     "execution_count": 53,
     "metadata": {},
     "output_type": "execute_result"
    }
   ],
   "source": [
    "y"
   ]
  },
  {
   "cell_type": "code",
   "execution_count": 18,
   "metadata": {},
   "outputs": [
    {
     "name": "stdout",
     "output_type": "stream",
     "text": [
      "(63, 1)\n",
      "(63,)\n"
     ]
    }
   ],
   "source": [
    "print (x.shape)\n",
    "print (x_alternate.shape)"
   ]
  },
  {
   "cell_type": "code",
   "execution_count": 54,
   "metadata": {},
   "outputs": [
    {
     "name": "stdout",
     "output_type": "stream",
     "text": [
      "(63,)\n"
     ]
    }
   ],
   "source": [
    "print (y.shape)"
   ]
  },
  {
   "cell_type": "code",
   "execution_count": 55,
   "metadata": {},
   "outputs": [
    {
     "data": {
      "image/png": "[encoded data removed]",
      "text/plain": [
       "<Figure size 432x288 with 1 Axes>"
      ]
     },
     "metadata": {
      "needs_background": "light"
     },
     "output_type": "display_data"
    }
   ],
   "source": [
    "#Plot the dataset\n",
    "plt.scatter(x,y)\n",
    "plt.xlabel('no of insurance claims')\n",
    "plt.ylabel(' total payment for all the claims \\n (in thousands of Swedish Kronor)')\n",
    "plt.title('Insurance Data')\n",
    "plt.show()"
   ]
  },
  {
   "cell_type": "code",
   "execution_count": 56,
   "metadata": {},
   "outputs": [
    {
     "data": {
      "image/png": "[encoded data removed]",
      "text/plain": [
       "<Figure size 432x288 with 1 Axes>"
      ]
     },
     "metadata": {
      "needs_background": "light"
     },
     "output_type": "display_data"
    }
   ],
   "source": [
    "#Plot the dataset\n",
    "plt.scatter(x_alternate,y)\n",
    "plt.xlabel('no of insurance claims')\n",
    "plt.ylabel(' total payment for all the claims \\n (in thousands of Swedish Kronor)')\n",
    "plt.title('Insurance Data')\n",
    "plt.show()"
   ]
  },
  {
   "cell_type": "code",
   "execution_count": 57,
   "metadata": {},
   "outputs": [],
   "source": [
    "from sklearn.model_selection import train_test_split\n",
    "X_Train, X_Test, Y_Train, Y_Test = train_test_split(x, y, test_size = 1/3, random_state = 1)"
   ]
  },
  {
   "cell_type": "code",
   "execution_count": 58,
   "metadata": {},
   "outputs": [
    {
     "data": {
      "text/plain": [
       "array([[ 23],\n",
       "       [ 22],\n",
       "       [ 31],\n",
       "       [  6],\n",
       "       [  8],\n",
       "       [ 13],\n",
       "       [ 27],\n",
       "       [  5],\n",
       "       [ 17],\n",
       "       [ 25],\n",
       "       [  9],\n",
       "       [ 23],\n",
       "       [  9],\n",
       "       [  6],\n",
       "       [  0],\n",
       "       [  3],\n",
       "       [  3],\n",
       "       [ 40],\n",
       "       [  7],\n",
       "       [  4],\n",
       "       [  7],\n",
       "       [ 24],\n",
       "       [ 11],\n",
       "       [  3],\n",
       "       [ 26],\n",
       "       [  6],\n",
       "       [  7],\n",
       "       [ 23],\n",
       "       [ 41],\n",
       "       [ 14],\n",
       "       [ 14],\n",
       "       [ 19],\n",
       "       [ 24],\n",
       "       [108],\n",
       "       [  2],\n",
       "       [ 57],\n",
       "       [ 48],\n",
       "       [ 10],\n",
       "       [ 45],\n",
       "       [ 11],\n",
       "       [ 37],\n",
       "       [ 12]], dtype=int64)"
      ]
     },
     "execution_count": 58,
     "metadata": {},
     "output_type": "execute_result"
    }
   ],
   "source": [
    "X_Train"
   ]
  },
  {
   "cell_type": "code",
   "execution_count": 59,
   "metadata": {},
   "outputs": [
    {
     "data": {
      "text/plain": [
       "array([113. , 161.5, 209.8,  50.9,  55.6,  31.9,  92.6,  40.3, 142.1,\n",
       "        69.2,  87.4,  39.6,  52.1,  14.6,   0. ,  39.9,  13.2, 119.4,\n",
       "        48.8,  38.1,  27.9, 137.9,  21.3,   4.4, 187.5,  14.8,  77.5,\n",
       "        56.9,  73.4,  77.5,  95.5,  46.2, 134.9, 392.5,   6.6, 170.9,\n",
       "       248.1,  65.3, 214. ,  23.5, 152.8,  58.1])"
      ]
     },
     "execution_count": 59,
     "metadata": {},
     "output_type": "execute_result"
    }
   ],
   "source": [
    "Y_Train"
   ]
  },
  {
   "cell_type": "code",
   "execution_count": 60,
   "metadata": {},
   "outputs": [],
   "source": [
    "from sklearn.linear_model import LinearRegression\n",
    "regressor = LinearRegression()"
   ]
  },
  {
   "cell_type": "code",
   "execution_count": 36,
   "metadata": {},
   "outputs": [],
   "source": [
    "#X_Train = X_Train.reshape(1,-1)\n",
    "#X_Train"
   ]
  },
  {
   "cell_type": "code",
   "execution_count": 37,
   "metadata": {},
   "outputs": [],
   "source": [
    "#Y_Train = Y_Train.reshape(1,-1)\n",
    "#Y_Train"
   ]
  },
  {
   "cell_type": "code",
   "execution_count": 61,
   "metadata": {},
   "outputs": [
    {
     "data": {
      "text/plain": [
       "LinearRegression(copy_X=True, fit_intercept=True, n_jobs=None, normalize=False)"
      ]
     },
     "execution_count": 61,
     "metadata": {},
     "output_type": "execute_result"
    }
   ],
   "source": [
    "regressor.fit(X_Train, Y_Train)"
   ]
  },
  {
   "cell_type": "code",
   "execution_count": 63,
   "metadata": {},
   "outputs": [
    {
     "data": {
      "text/plain": [
       "array([[103.9       ,  59.6       ,  93.        ,  98.1       ,\n",
       "        244.6       ,  15.7       ,  48.7       , 181.3       ,\n",
       "        202.4       , 162.8       ,  12.6       ,  32.1       ,\n",
       "         57.2       ,  11.8       , 194.5       ,  76.1       ,\n",
       "        422.2       ,  89.9       , 217.6       ,  20.9       ,\n",
       "        133.3       ],\n",
       "       [120.78443434,  75.03494684,  64.4773728 ,  89.11171223,\n",
       "        205.24502665,  64.4773728 ,  50.40060742, 163.0147305 ,\n",
       "        229.87936608, 212.28340935,  32.80465068,  71.51575549,\n",
       "         57.43899011,  32.80465068, 124.30362569,  46.88141607,\n",
       "        455.10761225,  64.4773728 , 233.39855743,  36.32384203,\n",
       "        120.78443434]])"
      ]
     },
     "execution_count": 63,
     "metadata": {},
     "output_type": "execute_result"
    }
   ],
   "source": [
    "Y_Predictions = regressor.predict(X_Test)\n",
    "#Predicated_Values = array(Y_Test,Y_Predictions)\n",
    "#Predicated_Values\n",
    "Y_Predictions\n",
    "concatenate([Y_Test,Y_Predictions])\n",
    "vstack([Y_Test,Y_Predictions])"
   ]
  },
  {
   "cell_type": "code",
   "execution_count": 64,
   "metadata": {},
   "outputs": [
    {
     "data": {
      "image/png": "[encoded data removed]",
      "text/plain": [
       "<Figure size 432x288 with 1 Axes>"
      ]
     },
     "metadata": {
      "needs_background": "light"
     },
     "output_type": "display_data"
    }
   ],
   "source": [
    "plt.scatter(X_Train, Y_Train, color = 'red')\n",
    "plt.plot(X_Train, regressor.predict(X_Train), color = 'blue')\n",
    "plt.xlabel('no of insurance claims (Training Set)')\n",
    "plt.ylabel(' total payment for all the claims \\n (in thousands of Swedish Kronor)')\n",
    "plt.title('Insurance Data')\n",
    "plt.show()"
   ]
  },
  {
   "cell_type": "code",
   "execution_count": 65,
   "metadata": {},
   "outputs": [
    {
     "data": {
      "image/png": "[encoded data removed]",
      "text/plain": [
       "<Figure size 432x288 with 1 Axes>"
      ]
     },
     "metadata": {
      "needs_background": "light"
     },
     "output_type": "display_data"
    }
   ],
   "source": [
    "# Visualising the Test set results\n",
    "\n",
    "plt.scatter(X_Test, Y_Test, color = 'red')\n",
    "plt.plot(X_Train, regressor.predict(X_Train), color = 'blue')\n",
    "plt.xlabel('no of insurance claims (Test Set)')\n",
    "plt.ylabel(' total payment for all the claims \\n (in thousands of Swedish Kronor)')\n",
    "plt.title('Insurance Data')\n",
    "plt.show()"
   ]
  },
  {
   "cell_type": "code",
   "execution_count": null,
   "metadata": {},
   "outputs": [],
   "source": [
    "from sklearn.metrics import mean_squared_error\n",
    "from math import sqrt\n",
    "\n",
    "rms = sqrt(mean_squared_error(Y_Test, Y_Predictions))\n",
    "rms"
   ]
  }
 ],
 "metadata": {
  "kernelspec": {
   "display_name": "Python 3",
   "language": "python",
   "name": "python3"
  },
  "language_info": {
   "codemirror_mode": {
    "name": "ipython",
    "version": 3
   },
   "file_extension": ".py",
   "mimetype": "text/x-python",
   "name": "python",
   "nbconvert_exporter": "python",
   "pygments_lexer": "ipython3",
   "version": "3.7.4"
  }
 },
 "nbformat": 4,
 "nbformat_minor": 2
}
